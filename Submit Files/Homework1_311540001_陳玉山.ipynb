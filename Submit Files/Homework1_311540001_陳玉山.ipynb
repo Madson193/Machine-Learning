{
  "nbformat": 4,
  "nbformat_minor": 0,
  "metadata": {
    "colab": {
      "provenance": [],
      "collapsed_sections": []
    },
    "kernelspec": {
      "name": "python3",
      "display_name": "Python 3"
    },
    "language_info": {
      "name": "python"
    }
  },
  "cells": [
    {
      "cell_type": "code",
      "execution_count": 1,
      "metadata": {
        "id": "D40fSA1xAURe"
      },
      "outputs": [],
      "source": [
        "import numpy as np\n",
        "import pandas as pd\n",
        "import matplotlib.pyplot as plt"
      ]
    },
    {
      "cell_type": "code",
      "source": [
        "def drop_feature(x, drop_index=-1):\n",
        "    if drop_index != -1:\n",
        "        name_list = x.index.values.tolist() #get name of the index\n",
        "        x = x.drop([name_list[drop_index]],axis=0)\n",
        "    return x\n",
        "\n",
        "def gaussian_func(x,mu,s):\n",
        "    # return np.exp(- np.linalg.norm(mu-x)**2/(2*s*s))\n",
        "    return np.exp(-(mu-x)**2/(s*s))\n",
        "\n",
        "\n",
        "def polinomial(x):\n",
        "    for i in range (len(x)):\n",
        "        x[i,:] = np.power(x[i,:],i+1)\n",
        "    return x\n",
        "\n",
        "def shuffle(x):\n",
        "    x = np.transpose(x)\n",
        "    np.random.shuffle(x)\n",
        "    x = np.transpose(x)\n",
        "    return x\n",
        "def data_dividing(x,test_percent):\n",
        "    test_percent = test_percent\n",
        "    train_percent = 1 - test_percent\n",
        "    \n",
        "    x_test = x[0:len(x)-1,0:round(len(x[1])*test_percent)]\n",
        "    t_test = x[len(x)-1, 0:round(len(x[1])*test_percent)]\n",
        "    t_test = np.transpose(t_test)\n",
        "    # print(\"x_test.shape\",x_test.shape)\n",
        "    x_train = x[0:len(x)-1,round(len(x[1])*test_percent):len(x[1])]\n",
        "    t_train = x[len(x)-1,round(len(x[1])*test_percent):len(x[1])]\n",
        "    t_train = np.transpose(t_train)\n",
        "    # print(\"x_train.shape = \", x_train.shape)\n",
        "    # print(\"t_train.shape = \", t_train.shape)\n",
        "    \n",
        "    return x_test, t_test, x_train, t_train\n",
        "def data_m2(x_, test_percent=0.1,cross= False):\n",
        "    target_index = x_.shape[0]-1\n",
        "    target = x_[target_index,:]\n",
        "    \n",
        "    # print(\"target_index = \",target_index)\n",
        "    temp = np.zeros((11*11,len(t)))\n",
        "    # print(temp.shape)\n",
        "    x_ = np.concatenate((x_,temp),axis=0)\n",
        "    for k in range(len(t)):\n",
        "        x_temp = x_[0:11,k]\n",
        "        for i in range (1,12):\n",
        "            for j in range (1,12):\n",
        "                temp = x_temp[i-1]*x_temp[j-1]\n",
        "                x_[11*i+j-1][k] = temp\n",
        "    \n",
        "    if (cross==True):\n",
        "      return x_ \n",
        "    \n",
        "    test_percent = test_percent\n",
        "    x_test = x_[:,0:round(x_.shape[1]*test_percent)]\n",
        "    t_test = target[0:round(x_.shape[1]*test_percent)]\n",
        "    t_test = np.reshape(t_test,(len(t_test),1))\n",
        "    \n",
        "    x_train = x_[:,round(x_.shape[1]*test_percent):x_.shape[1]]\n",
        "    t_train = target[round(x_.shape[1]*test_percent):x_.shape[1]]\n",
        "    t_train = np.reshape(t_train,(len(t_train),1))\n",
        "    \n",
        "    return x_test, t_test, x_train, t_train\n",
        "\n",
        "   \n",
        "   \n",
        "    \n",
        "    \n",
        "def cross_data_dividing(x,i,element_num):\n",
        "    fold_test = x[:,i*element_num: (i+1)*element_num]\n",
        "    fold_train = np.delete(x,np.s_[i*element_num:(i+1)*element_num],1)\n",
        "    \n",
        "    t_test = fold_test[fold_test.shape[0]-1,:]\n",
        "    t_test = np.reshape(t_test,(len(t_test),1))\n",
        "    x_test = np.delete(fold_test,fold_test.shape[0]-1,0)\n",
        "    \n",
        "    t_train = fold_train[fold_train.shape[0]-1,:]\n",
        "    t_train = np.reshape(t_train,(len(t_train),1))\n",
        "    x_train = np.delete(fold_train,fold_train.shape[0]-1,0)\n",
        "    \n",
        "    return x_test, t_test, x_train, t_train\n",
        "\n",
        "def error_calculating(x,t,w):\n",
        "    error = 0 \n",
        "    \n",
        "    \n",
        "    for i in range(x.shape[1]):\n",
        "        temp = x[:,i]\n",
        "       \n",
        "        temp = np.array(temp)\n",
        "        temp = temp.reshape(-1,1)\n",
        "        predict_ = np.dot(w.transpose(),temp)\n",
        "        \n",
        "        error = error + 1/2*np.power((predict_ - t[i]),2)\n",
        "        # print(t_test[i])\n",
        "        \n",
        "        \n",
        "    \n",
        "    error_rms = np.sqrt(2*error/(x.shape[1]))\n",
        "    return error_rms\n",
        "\n",
        "def part_of_main(x_test, t_test, x_train, t_train,basis_func_type,regularization):\n",
        "    \n",
        "    \n",
        "    if basis_func_type == \"gaussian\":\n",
        "        # x = data.transpose()\n",
        "        mu_train = np.mean(x_train)\n",
        "        s_train  = np.std(x_train) # recheck again\n",
        "        x_train = gaussian_func(x_train,mu_train,s_train)\n",
        "        \n",
        "        mu_test = np.mean(x_test)\n",
        "        s_test  = np.std(x_test) # recheck again\n",
        "        x_test = np.vectorize(gaussian_func)(x_test,mu_test,s_test)\n",
        "        # print(\"x.shape\",x.shape)\n",
        "        # print('gaussian')\n",
        "    \n",
        "    if basis_func_type == \"sigmoid\":\n",
        "        x_train = 1/(1+np.exp(-x_train))\n",
        "        x_test = 1/(1+np.exp(-x_test))\n",
        "        # print('sigmoid')\n",
        "    \n",
        "    \n",
        "    \n",
        "    if regularization == True:\n",
        "        a = np.dot(x_train,x_train.transpose())+np.identity(len(x_train))*100\n",
        "    \n",
        "    else:\n",
        "        a = np.dot(x_train,x_train.transpose())\n",
        "    \n",
        "    a = np.linalg.pinv(a)\n",
        "    \n",
        "    b = np.dot(x_train,t_train)\n",
        "    \n",
        "    w = (np.dot(a,b))\n",
        "    \n",
        "    error_rms_train = error_calculating(x_train,t_train,w)\n",
        "    error_rms_test = error_calculating(x_test,t_test,w)\n",
        "    \n",
        "    \n",
        "    \n",
        "\n",
        "    error_list[drop_index] = error_rms_test\n",
        "    # print(error_rms)################\n",
        "    \n",
        "    return error_list,error_rms_train, error_rms_test\n",
        "\n",
        "\n",
        "    \n",
        "def main_regression(x,regularization = False, shuffle = False, basis_func_type = \"polinomial\",dividing=\"normal\"):\n",
        "    if shuffle == True:\n",
        "        x = np.transpose(x)\n",
        "        np.random.shuffle(x)\n",
        "        x = np.transpose(x)\n",
        "    # x = np.transpose(x)\n",
        "    # print(\"x.shape\", x.shape)\n",
        "\n",
        "    test_percent = 0.1\n",
        "    if dividing == \"normal\":\n",
        "        x_test, t_test, x_train, t_train = data_dividing(x,test_percent)\n",
        "        error_list,error_rms_train,error_rms_test = part_of_main(x_test, t_test, x_train, t_train,basis_func_type,regularization)\n",
        "        return error_list,error_rms_train,error_rms_test\n",
        "    elif dividing == \"M=2\":\n",
        "        x_test, t_test, x_train, t_train = data_m2(x,test_percent)\n",
        "        error_list,error_rms_train,error_rms_test = part_of_main(x_test, t_test, x_train, t_train,basis_func_type,regularization)\n",
        "        return error_list,error_rms_train,error_rms_test\n",
        "    elif dividing == \"cross_validation\":\n",
        "        k = 5\n",
        "        _data = x\n",
        "        x_m2 = data_m2(_data,cross=True)\n",
        "        element_num = round(x.shape[1]/k)\n",
        "        # 0 - 319 = i*element_num -> (i+1)*element_num - 1\n",
        "        # 320 - 639\n",
        "        total_error_rms = 0\n",
        "        for i in range (k):\n",
        "           x_test, t_test, x_train, t_train = cross_data_dividing(x,i,element_num)\n",
        "           error_list,error_rms_train,error_rms_test = part_of_main(x_test, t_test, x_train, t_train,basis_func_type,regularization)\n",
        "           total_error_rms = total_error_rms + error_rms_test\n",
        "        \n",
        "        mean_error_m1 = total_error_rms / k\n",
        "\n",
        "        total_error_rms = 0\n",
        "        basis_func_type = \"sigmoid\"\n",
        "        for i in range (k):\n",
        "           x_test, t_test, x_train, t_train = cross_data_dividing(x,i,element_num)\n",
        "           error_list,error_rms_train,error_rms_test = part_of_main(x_test, t_test, x_train, t_train,basis_func_type= basis_func_type,regularization=False)\n",
        "           total_error_rms = total_error_rms + error_rms_test\n",
        "        \n",
        "        mean_error_sigmoid = total_error_rms / k\n",
        "\n",
        "        total_error_rms = 0\n",
        "        basis_func_type = \"gaussian\"\n",
        "        for i in range (k):\n",
        "           x_test, t_test, x_train, t_train = cross_data_dividing(x,i,element_num)\n",
        "           error_list,error_rms_train,error_rms_test = part_of_main(x_test, t_test, x_train, t_train,basis_func_type= basis_func_type,regularization=False)\n",
        "           total_error_rms = total_error_rms + error_rms_test\n",
        "        \n",
        "        mean_error_gaussian= total_error_rms / k\n",
        "        # print (\"mean_error = \", mean_error_m1) \n",
        "        return mean_error_m1, mean_error_sigmoid, mean_error_gaussian\n",
        "        \n",
        "    \n",
        "\n",
        "   \n",
        "    "
      ],
      "metadata": {
        "id": "kPGj_2UDoihP"
      },
      "execution_count": 97,
      "outputs": []
    },
    {
      "cell_type": "code",
      "source": [
        "data = pd.read_csv('/content/drive/MyDrive/Colab Notebooks/Homework1/X.csv')\n",
        "t = pd.read_csv('/content/drive/MyDrive/Colab Notebooks/Homework1/T.csv')\n",
        "\n",
        "data = pd.concat([data,t],axis=1)\n",
        "D = 11\n"
      ],
      "metadata": {
        "id": "-nRUzjgDoq6q"
      },
      "execution_count": 6,
      "outputs": []
    },
    {
      "cell_type": "code",
      "source": [
        "from google.colab import drive\n",
        "drive.mount('/content/drive')"
      ],
      "metadata": {
        "id": "CISkSzwPo0a_"
      },
      "execution_count": null,
      "outputs": []
    },
    {
      "cell_type": "markdown",
      "source": [
        "# 2.1 Feature Selection\n",
        "**2.1 a**\n",
        "\n",
        "\n",
        "> The code below shows the results of Error_rms for training and testing in case M = 1 and M = 2. We can see that, in most of the cases, the higher order, M=2, would give us smaller errors compared to the errors of M=1. When we apply the pre-trained weight to the train data set, we usually get the smaller error_rms because these data has been seen by the model before. On the contrast, the data of testing has not been seen by the model, which leads to the results of higher error_rms.\n",
        "\n"
      ],
      "metadata": {
        "id": "DDix3c_M5tLg"
      }
    },
    {
      "cell_type": "code",
      "source": [
        "#%%\n",
        "#For M=1 \n",
        "data_ =data.sample(frac=1)\n",
        "temp = data_\n",
        "x_ = temp.transpose()\n",
        "x_ = np.array(x_)\n",
        "temp, error_rms_train, error_rms_test = main_regression(x_)\n",
        "print (\"Error_rms_train, error_rms_test for M = 1 are = {}, {}\".format(error_rms_train, error_rms_test))\n",
        "\n",
        "#For M=2\n",
        "temp = data_\n",
        "x_ = temp.transpose()\n",
        "x_ = np.array(x_)\n",
        "temp, error_rms_train, error_rms_test = main_regression(x_,dividing=\"M=2\")\n",
        "print (\"Error_rms_train, error_rms_test for M = 2 are = {}, {}\".format(error_rms_train, error_rms_test))\n"
      ],
      "metadata": {
        "colab": {
          "base_uri": "https://localhost:8080/"
        },
        "id": "efuYLp5sqglp",
        "outputId": "00a4a4f3-a52d-4c61-daf9-e8aa89df4429"
      },
      "execution_count": 67,
      "outputs": [
        {
          "output_type": "stream",
          "name": "stdout",
          "text": [
            "Error_rms_train, error_rms_test for M = 1 are = [0.65759591], [0.53138046]\n",
            "Error_rms_train, error_rms_test for M = 2 are = [[0.61748178]], [[0.56016763]]\n"
          ]
        }
      ]
    },
    {
      "cell_type": "markdown",
      "source": [
        "\n",
        "\n",
        "---\n",
        "\n",
        "\n",
        "**2.1 b**\n",
        "\n",
        "\n",
        "> I would try to drop each feature of the input data and calculating the Error_rms then save them in the list. After that, I would plot all of the error in order to compare of these, the one that leads to the largest error would be the most important Fearture of the input data. As we can see in the figure, the error is largest when we drop the index 10, which mean the **Alcohol feature**. \n",
        "\n"
      ],
      "metadata": {
        "id": "4fc1mWVP8e1l"
      }
    },
    {
      "cell_type": "code",
      "source": [
        "#For M=1\n",
        "feature_test = True\n",
        "error_list = np.zeros((D,1))\n",
        "if feature_test == True:\n",
        "    temp_data = data.sample(frac=1)\n",
        "    t = temp_data.iloc[:,11]\n",
        "    t = np.array(t)\n",
        "    t = np.reshape(t, (len(t),-1))\n",
        "    # temp_data = temp_data.drop('quality',axis=1) #drop the index column \n",
        "    for drop_index in range (11):\n",
        "        _data = temp_data.transpose()\n",
        "        _data = drop_feature(_data,drop_index) #drop each feature to observe which one contributes the most\n",
        "        \n",
        "        _data = np.array(_data)\n",
        "        error_list, temp, temp1 = main_regression(_data)\n",
        "        print(\"The Error_rms of testing data when droping the {} feature is = {}\".format(drop_index,temp1))\n",
        "    plt.plot(error_list) #2.1b\n",
        "    plt.xlabel(\"Features\")\n",
        "    plt.ylabel(\"Error\")"
      ],
      "metadata": {
        "colab": {
          "base_uri": "https://localhost:8080/",
          "height": 470
        },
        "id": "JXzzHhCl8jS1",
        "outputId": "387de38b-c284-4b08-9c34-f817b42e0160"
      },
      "execution_count": 115,
      "outputs": [
        {
          "output_type": "stream",
          "name": "stdout",
          "text": [
            "The Error_rms of testing data when droping the 0 feature is = [0.59752384]\n",
            "The Error_rms of testing data when droping the 1 feature is = [0.61363439]\n",
            "The Error_rms of testing data when droping the 2 feature is = [0.59865053]\n",
            "The Error_rms of testing data when droping the 3 feature is = [0.595349]\n",
            "The Error_rms of testing data when droping the 4 feature is = [0.59504975]\n",
            "The Error_rms of testing data when droping the 5 feature is = [0.59860518]\n",
            "The Error_rms of testing data when droping the 6 feature is = [0.60452992]\n",
            "The Error_rms of testing data when droping the 7 feature is = [0.60962873]\n",
            "The Error_rms of testing data when droping the 8 feature is = [0.59868631]\n",
            "The Error_rms of testing data when droping the 9 feature is = [0.60635306]\n",
            "The Error_rms of testing data when droping the 10 feature is = [0.65819022]\n"
          ]
        },
        {
          "output_type": "display_data",
          "data": {
            "text/plain": [
              "<Figure size 432x288 with 1 Axes>"
            ],
            "image/png": "[encoded data removed]"
          },
          "metadata": {
            "needs_background": "light"
          }
        }
      ]
    },
    {
      "cell_type": "markdown",
      "source": [
        "# **2.2 Maximum likelihood approach**\n",
        "2.2 ab) The code below will try different basis functions and comparing the result of Error_rms. As we can see from the result, it turns out the error_rms would be the smallest one when the basis function is Polynomial. Since the amount of data that we have is not really complicated, therefore, we can choose the polynomial function to deal with this kind of problem. Since I remember from what professor said in the class. If the problem is easy, the complex model may not give the best result. And by contrast, the complex problem can't be solved by unsophisticated model. As the result, we should test different type of model to find out the best one."
      ],
      "metadata": {
        "id": "TKl_CCpr-3kU"
      }
    },
    {
      "cell_type": "code",
      "source": [
        "basis_func_test = True\n",
        "basis_function = [\"none\",\"polinomial\",\"gaussian\",\"sigmoid\"]\n",
        "basis_func_type = basis_function[2]\n",
        "if basis_func_test == True:\n",
        "    x = data.sample(frac=1)\n",
        "    x = x.transpose()\n",
        "    x = np.array(x)\n",
        "    for i in range (1,4):\n",
        "        basis_func_type = basis_function[i]\n",
        "        temp, error_rms_train, error_rms_test = main_regression(x,basis_func_type=basis_func_type)\n",
        "        print(\"Error_rms of testing data when using '{}' basis function is {}\".format(basis_function[i],error_rms_test))"
      ],
      "metadata": {
        "colab": {
          "base_uri": "https://localhost:8080/"
        },
        "id": "SvM-DOmf_Khx",
        "outputId": "d19a32be-4294-4276-f290-b12421777bd6"
      },
      "execution_count": 114,
      "outputs": [
        {
          "output_type": "stream",
          "name": "stdout",
          "text": [
            "Error_rms of testing data when using 'polinomial' basis function is [0.67752733]\n",
            "Error_rms of testing data when using 'gaussian' basis function is [0.6891307]\n",
            "Error_rms of testing data when using 'sigmoid' basis function is [0.72934853]\n"
          ]
        }
      ]
    },
    {
      "cell_type": "markdown",
      "source": [
        "\n",
        "\n",
        "---\n",
        "\n",
        "**2.2 c**\n",
        "\n",
        "\n",
        "> We will dividing the data into 5 bins for this method and apply this method to compare between the two, \"polynomial\" \"gaussian\" and \"sigmoid\" basis function. As we can see, the polynomial basis function again gives the best result. \n",
        "\n"
      ],
      "metadata": {
        "id": "HKTFoYSdDkQC"
      }
    },
    {
      "cell_type": "code",
      "source": [
        "#%% Nfold Cross validation\n",
        "x =data.sample(frac=1)\n",
        "x = x.transpose()\n",
        "x = np.array(x)\n",
        "mean_error_rms_m1, mean_error_rms_sigmoid, mean_error_rms_gaussian= main_regression(x,dividing=\"cross_validation\")\n",
        "print(\"mean_error_rms_m1 = \" ,mean_error_rms_m1)\n",
        "print(\"mean_error_rms_gaussian = \", mean_error_rms_gaussian)\n",
        "print(\"mean_error_rms_sigmoid = \", mean_error_rms_sigmoid)\n",
        "\n"
      ],
      "metadata": {
        "colab": {
          "base_uri": "https://localhost:8080/"
        },
        "id": "PnxsCSjPrbC3",
        "outputId": "667ae65e-3799-48f1-f44c-9b839f56845b"
      },
      "execution_count": 113,
      "outputs": [
        {
          "output_type": "stream",
          "name": "stdout",
          "text": [
            "mean_error_rms_m1 =  [[0.65336991]]\n",
            "mean_error_rms_gaussian =  [[0.66739306]]\n",
            "mean_error_rms_sigmoid =  [[0.69044895]]\n"
          ]
        }
      ]
    },
    {
      "cell_type": "markdown",
      "source": [
        "\n",
        "\n",
        "---\n",
        "\n",
        "# 2.3 Maximum a posteriori approach\n",
        "\n",
        "\n",
        "\n",
        "> 2.3a) The key difference is that MAP uses both likelihood and prior while Maximum likelihood doesn't use prior.\n",
        "\n",
        "\n",
        ">2.3 b c) In the comparison, we see that the Error_rms with regularization gives 0.8210171, meanwhile, the error_rms without regularization is 0.67081066. As the consequence, the results show that the model with regularization does not necessarily sends out the better results.\n",
        "\n"
      ],
      "metadata": {
        "id": "BdvNC47gM27b"
      }
    },
    {
      "cell_type": "code",
      "source": [
        "data_ =data.sample(frac=1)\n",
        "temp = data_\n",
        "x_ = temp.transpose()\n",
        "x_ = np.array(x_)\n",
        "temp, error_rms_train, error_rms_regularization = main_regression(x_,basis_func_type = \"gaussian\",regularization=True)\n",
        "temp, error_rms_train, error_rms_without_reg = main_regression(x_,basis_func_type = \"gaussian\",regularization=False)\n",
        "print(\"Error_rms with regularization is {}\".format( error_rms_regularization))\n",
        "print(\"Error_rms with wihtout regularization is {}\".format(error_rms_without_reg))"
      ],
      "metadata": {
        "colab": {
          "base_uri": "https://localhost:8080/"
        },
        "id": "XTo61Ig5NAsT",
        "outputId": "11a86c3d-d8a9-4020-a6de-4a9f8afb4d55"
      },
      "execution_count": 112,
      "outputs": [
        {
          "output_type": "stream",
          "name": "stdout",
          "text": [
            "Error_rms with regularization is [0.86026683]\n",
            "Error_rms with wihtout regularization is [0.66717473]\n"
          ]
        }
      ]
    },
    {
      "cell_type": "markdown",
      "source": [],
      "metadata": {
        "id": "t-qZjoFEWb2c"
      }
    }
  ]
}